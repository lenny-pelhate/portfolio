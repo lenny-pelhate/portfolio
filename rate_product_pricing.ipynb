{
 "cells": [
  {
   "cell_type": "markdown",
   "metadata": {},
   "source": [
    "# **Rates Products Pricing**\n",
    "\n",
    "### **Swap:**\n",
    "\n",
    "Pricing example, receiving the fixed leg\n",
    "\n",
    "\\begin{align}\n",
    "Swap(t) &= L_{Fixed}(t) - L_{Floating}(t) \\\\\n",
    "        &= E_{\\mathbb{Q}} \\left[\\sum_{j=1}^{n} e^{-\\int_{t}^{T_j} r_s ds} (T_j - T_{j-1}) K \\bigg| \\mathcal{F}_t \\right] - E_{\\mathbb{Q}} \\left[\\sum_{j=1}^{n} e^{-\\int_{t}^{T_j} r_s ds} (T_j - T_{j-1}) F(T_{j-1}, T_{j-1}, T_j) \\bigg| \\mathcal{F}_t \\right]  \\\\\n",
    "        &= K \\sum_{j=1}^{n} (T_j - T_{j-1}) \\, E_{\\mathbb{Q}} \\left[e^{-\\int_{t}^{T_j} r_s ds} \\bigg| \\mathcal{F}_t \\right] - E_{\\mathbb{Q}} \\left[E_{\\mathbb{Q}} \\left[\\sum_{j=1}^{n} e^{-\\int_{t}^{T_j} r_s ds} (T_j - T_{j-1}) F(T_{j-1}, T_{j-1}, T_j) \\bigg| \\mathcal{F}_{T_{j-1}}\\right] \\bigg| \\mathcal{F}_t \\right]\\\\\n",
    "        &= K \\sum_{j=1}^{n} (T_j - T_{j-1}) \\, B(t, T_j) - \\sum_{j=1}^{n} E_{\\mathbb{Q}} \\left[e^{-\\int_{t}^{T_{j-1}} r_s ds} (T_j - T_{j-1}) F(T_{j-1}, T_{j-1}, T_j) E_{\\mathbb{Q}} \\left[e^{-\\int_{T_{j-1}}^{T_j} r_s ds} \\bigg| \\mathcal{F}_{T_{j-1}}\\right] \\bigg| \\mathcal{F}_t \\right] \\\\\n",
    "        &= K \\sum_{j=1}^{n} (T_j - T_{j-1}) \\, B(t, T_j) - \\sum_{j=1}^{n} E_{\\mathbb{Q}} \\left[e^{-\\int_{t}^{T_{j-1}} r_s ds} (T_j - T_{j-1}) F(T_{j-1}, T_{j-1}, T_j) B(T_{j-1}, T_j) \\bigg| \\mathcal{F}_t \\right] \\\\\n",
    "        &= K \\sum_{j=1}^{n} (T_j - T_{j-1}) \\, B(t, T_j) - \\sum_{j=1}^{n} E_{\\mathbb{Q}} \\left[e^{-\\int_{t}^{T_{j-1}} r_s ds} (T_j - T_{j-1}) \\left(\\frac{B(T_{j-1}, T_{j-1}) - B(T_{j-1}, T_j)}{(T_j - T_{j-1}) B(T_{j-1}, T_j)}\\right) B(T_{j-1}, T_j) \\bigg| \\mathcal{F}_t \\right] \\\\\n",
    "        &= K \\sum_{j=1}^{n} (T_j - T_{j-1}) \\, B(t, T_j) - \\sum_{j=1}^{n} E_{\\mathbb{Q}} \\left[e^{-\\int_{t}^{T_{j-1}} r_s ds} \\bigg(B(T_{j-1}, T_{j-1}) - B(T_{j-1}, T_j)\\bigg) \\bigg| \\mathcal{F}_t \\right] \\\\\n",
    "        &= K \\sum_{j=1}^{n} (T_j - T_{j-1}) \\, B(t, T_j) - \\sum_{j=1}^{n} \\bigg\\{E_{\\mathbb{Q}} \\left[e^{-\\int_{t}^{T_{j-1}} r_s ds} \\bigg| \\mathcal{F}_t \\right] - E_{\\mathbb{Q}} \\left[e^{-\\int_{t}^{T_{j-1}} r_s ds} B(T_{j-1}, T_j) \\bigg| \\mathcal{F}_t \\right] \\bigg\\} \\\\\n",
    "        &= K \\sum_{j=1}^{n} (T_j - T_{j-1}) \\, B(t, T_j) - \\sum_{j=1}^{n} \\bigg\\{B(t,T_{j-1}) - e^{\\int_{0}^{t} r_s ds} E_{\\mathbb{Q}} \\left[e^{-\\int_{0}^{T_{j-1}} r_s ds} B(T_{j-1}, T_j) \\bigg| \\mathcal{F}_t \\right] \\bigg\\} \\\\\n",
    "        &= K \\sum_{j=1}^{n} (T_j - T_{j-1}) \\, B(t, T_j) - \\sum_{j=1}^{n} \\bigg\\{B(t,T_{j-1}) - e^{\\int_{0}^{t} r_s ds} e^{-\\int_{0}^{t} r_s ds} B(t, T_j) \\bigg\\} \\\\\n",
    "        &= K \\sum_{j=1}^{n} (T_j - T_{j-1}) \\, B(t, T_j) - \\bigg\\{B(t, T_0) - B(t, T_n)\\bigg\\} \\\\\n",
    "\\end{align}\n",
    "\n",
    "The swap rate $S_t$ is the rate at which the present value of the floating leg is equal to the present value of the fixed leg, which is given by:\n",
    "\n",
    "$$\n",
    "S_t = \\frac{B(t, T_0) - B(t, T_n)}{\\sum_{j=1}^{n} (T_j - T_{j-1}) \\, B(t, T_j)}\n",
    "$$\n",
    "<br>\n",
    "\n",
    "### **Caplets:**\n",
    "\n",
    "\\begin{align}\n",
    "Caplet(t) &= E_{\\mathbb{Q}} \\left[e^{-\\int_{t}^{U} r_s ds} (U-T) \\Big(F(T)-K \\Big)^+ \\bigg| \\mathcal{F}_t\\right] \\\\\n",
    "          &= E_{\\mathbb{Q}} \\left[ E_{\\mathbb{Q}} \\Big[e^{-\\int_{t}^{U} r_s ds} (U-T) \\Big(F(T)-K \\Big)^+ \\Big| \\mathcal{F}_T \\Big] \\bigg| \\mathcal{F}_t\\right] \\\\\n",
    "          &= (U-T) E_{\\mathbb{Q}} \\left[e^{-\\int_{t}^{T} r_s ds} \\Big(F(T)-K \\Big)^+ E_{\\mathbb{Q}} \\Big[e^{-\\int_{T}^{U} r_s ds} \\Big| \\mathcal{F}_T \\Big] \\bigg| \\mathcal{F}_t\\right] \\\\\n",
    "          &= (U-T) E_{\\mathbb{Q}} \\left[e^{-\\int_{t}^{T} r_s ds} \\Big(F(T)-K \\Big)^+ B(T,U) \\bigg| \\mathcal{F}_t\\right] \\\\\n",
    "\\end{align}\n",
    "<br>\n",
    "\n",
    "### **Swaptions:**\n",
    "\n",
    "Pricing exmaple with a payer swaption (i.e., pays the fixed leg, receives the floating leg)\n",
    "\n",
    "\\begin{align}\n",
    "Swaption(t) &= E_{\\mathbb{Q}} \\left[e^{-\\int_{t}^{T} r_s ds} \\Big(L_{Floating}(T) - L_{Fixed}(T)\\Big)^+ \\bigg| \\mathcal{F}_t\\right] \\\\\n",
    "            &= E_{\\mathbb{Q}} \\left[e^{-\\int_{t}^{T} r_s ds} \\bigg(B(T, T_0) - B(T, T_n) - K \\sum_{j=1}^{n} (T_j - T_{j-1}) \\, B(T, T_j) \\bigg)^+ \\bigg| \\mathcal{F}_t\\right] \\\\\n",
    "\\end{align}\n"
   ]
  }
 ],
 "metadata": {
  "language_info": {
   "name": "python"
  }
 },
 "nbformat": 4,
 "nbformat_minor": 2
}
